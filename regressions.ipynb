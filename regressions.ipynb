{
 "cells": [
  {
   "cell_type": "code",
   "execution_count": 15,
   "metadata": {},
   "outputs": [],
   "source": [
    "#importing python modules/libraries\n",
    "import pandas as pd\n",
    "import numpy as nump\n",
    "from sklearn.metrics import accuracy_score\n",
    "from sklearn.model_selection import train_test_split"
   ]
  },
  {
   "cell_type": "code",
   "execution_count": 16,
   "metadata": {},
   "outputs": [],
   "source": [
    "df=pd.read_excel(r\"C:\\Users\\aviv\\Desktop\\python learning\\Suicide_Statistics.xlsx\", index_col=0)\n"
   ]
  },
  {
   "cell_type": "code",
   "execution_count": 17,
   "metadata": {},
   "outputs": [],
   "source": [
    "#Preprocessing, Converting AGE Groups into integer values and Gender ~ Female=0,Male=1 for model testing and predictions\n",
    "temp_data=df\n",
    "temp_data=temp_data.drop(['country'],axis=1)#removed country column from 'mydata'\n",
    "#replacing age groups with integer values\n",
    "temp_data['age']=temp_data['age'].replace('5-14 years',0)\n",
    "temp_data['age']=temp_data['age'].replace('15-24 years',1)\n",
    "temp_data['age']=temp_data['age'].replace('25-34 years',2)\n",
    "temp_data['age']=temp_data['age'].replace('35-54 years',3)\n",
    "temp_data['age']=temp_data['age'].replace('55-74 years',4)\n",
    "temp_data['age']=temp_data['age'].replace('75+ years',5)\n",
    "temp_data['sex']=temp_data['sex'].replace('female',0)\n",
    "temp_data['sex']=temp_data['sex'].replace('male',1)\n",
    "\n",
    "#adding two more columns for model training and testing\n",
    "\n",
    "temp_data['suicides/100k_population']=(temp_data.suicides_no/temp_data.population)/100000\n",
    "temp_data['fatality_rate']=nump.where(temp_data['suicides/100k_population']>temp_data['suicides/100k_population'].mean(),0,1)\n",
    "\n"
   ]
  },
  {
   "cell_type": "code",
   "execution_count": 18,
   "metadata": {},
   "outputs": [
    {
     "name": "stdout",
     "output_type": "stream",
     "text": [
      "Shape of x_train:  (27045, 5)\n",
      "Shape of y_train:  (27045,)\n",
      "Shape of x_test:  (9015, 5)\n",
      "Shape of y_test:  (9015,)\n"
     ]
    }
   ],
   "source": [
    "#Dividing dataset into training and testing sets\n",
    "X = nump.array(temp_data.drop(['fatality_rate', 'suicides/100k_population'], 1))\n",
    "y=nump.array(temp_data.fatality_rate)\n",
    "X_train,X_test,y_train,y_test=train_test_split(X,y,test_size=0.25,random_state=42)\n",
    "\n",
    "from sklearn import utils\n",
    "from sklearn import preprocessing\n",
    "from sklearn import metrics\n",
    "#Encoing labels for continous and multi class output\n",
    "label_enc=preprocessing.LabelEncoder()\n",
    "trs=label_enc.fit_transform(y_train)\n",
    "\n",
    "\n",
    "print(\"Shape of x_train: \",X_train.shape)\n",
    "print(\"Shape of y_train: \",y_train.shape)\n",
    "print(\"Shape of x_test: \",X_test.shape)\n",
    "print(\"Shape of y_test: \",y_test.shape)\n"
   ]
  },
  {
   "cell_type": "code",
   "execution_count": 19,
   "metadata": {},
   "outputs": [
    {
     "name": "stdout",
     "output_type": "stream",
     "text": [
      "Logistic Regression : 0.999\n"
     ]
    }
   ],
   "source": [
    "from sklearn.linear_model import LogisticRegression\n",
    "logreg=LogisticRegression()\n",
    "logreg.fit(X_train,y_train)\n",
    "print('Logistic Regression : {:.3f}'.format(accuracy_score(y_test,logreg.predict(X_test))))"
   ]
  },
  {
   "cell_type": "code",
   "execution_count": 20,
   "metadata": {},
   "outputs": [
    {
     "name": "stdout",
     "output_type": "stream",
     "text": [
      "Decision Tree  0.9924570160843039\n"
     ]
    }
   ],
   "source": [
    "#Checking DecisionTreeClassifier Model and its accuracy\n",
    "from sklearn.tree import DecisionTreeClassifier\n",
    "model=DecisionTreeClassifier()\n",
    "model.fit(X_train,trs)\n",
    "model.predict(X_test)\n",
    "\n",
    "print('Decision Tree ',accuracy_score(y_test,model.predict(X_test)))"
   ]
  }
 ],
 "metadata": {
  "kernelspec": {
   "display_name": "Python 3",
   "language": "python",
   "name": "python3"
  },
  "language_info": {
   "codemirror_mode": {
    "name": "ipython",
    "version": 3
   },
   "file_extension": ".py",
   "mimetype": "text/x-python",
   "name": "python",
   "nbconvert_exporter": "python",
   "pygments_lexer": "ipython3",
   "version": "3.8.5"
  }
 },
 "nbformat": 4,
 "nbformat_minor": 4
}
